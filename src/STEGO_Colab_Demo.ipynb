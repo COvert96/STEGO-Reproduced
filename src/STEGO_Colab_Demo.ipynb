{
 "nbformat": 4,
 "nbformat_minor": 0,
 "metadata": {
  "colab": {
   "name": "STEGO Colab Demo.ipynb",
   "provenance": []
  },
  "kernelspec": {
   "name": "python3",
   "display_name": "Python 3"
  },
  "language_info": {
   "name": "python"
  },
  "accelerator": "GPU",
  "widgets": {
   "application/vnd.jupyter.widget-state+json": {
    "5fa05203c234442a8c863a51f83bac9d": {
     "model_module": "@jupyter-widgets/controls",
     "model_name": "HBoxModel",
     "model_module_version": "1.5.0",
     "state": {
      "_dom_classes": [],
      "_model_module": "@jupyter-widgets/controls",
      "_model_module_version": "1.5.0",
      "_model_name": "HBoxModel",
      "_view_count": null,
      "_view_module": "@jupyter-widgets/controls",
      "_view_module_version": "1.5.0",
      "_view_name": "HBoxView",
      "box_style": "",
      "children": [
       "IPY_MODEL_7cf007c8f7a94bc292f8243391cea7ca",
       "IPY_MODEL_5fa6b3215e01491d9534feadee79f706",
       "IPY_MODEL_41d2dacf744d4ecaa1f51174a6703334"
      ],
      "layout": "IPY_MODEL_d5faaf8d200a4bbf9c1e9677af8fe257"
     }
    },
    "7cf007c8f7a94bc292f8243391cea7ca": {
     "model_module": "@jupyter-widgets/controls",
     "model_name": "HTMLModel",
     "model_module_version": "1.5.0",
     "state": {
      "_dom_classes": [],
      "_model_module": "@jupyter-widgets/controls",
      "_model_module_version": "1.5.0",
      "_model_name": "HTMLModel",
      "_view_count": null,
      "_view_module": "@jupyter-widgets/controls",
      "_view_module_version": "1.5.0",
      "_view_name": "HTMLView",
      "description": "",
      "description_tooltip": null,
      "layout": "IPY_MODEL_aeb7614c4d7e41eeab603a70fc80ed6a",
      "placeholder": "​",
      "style": "IPY_MODEL_41986d51df5b41d79187acaebafe3008",
      "value": "100%"
     }
    },
    "5fa6b3215e01491d9534feadee79f706": {
     "model_module": "@jupyter-widgets/controls",
     "model_name": "FloatProgressModel",
     "model_module_version": "1.5.0",
     "state": {
      "_dom_classes": [],
      "_model_module": "@jupyter-widgets/controls",
      "_model_module_version": "1.5.0",
      "_model_name": "FloatProgressModel",
      "_view_count": null,
      "_view_module": "@jupyter-widgets/controls",
      "_view_module_version": "1.5.0",
      "_view_name": "ProgressView",
      "bar_style": "success",
      "description": "",
      "description_tooltip": null,
      "layout": "IPY_MODEL_e2ad8a86c24c419581c204fd2ae2ba18",
      "max": 343279349,
      "min": 0,
      "orientation": "horizontal",
      "style": "IPY_MODEL_811c526bd6154969b7028307dcafd550",
      "value": 343279349
     }
    },
    "41d2dacf744d4ecaa1f51174a6703334": {
     "model_module": "@jupyter-widgets/controls",
     "model_name": "HTMLModel",
     "model_module_version": "1.5.0",
     "state": {
      "_dom_classes": [],
      "_model_module": "@jupyter-widgets/controls",
      "_model_module_version": "1.5.0",
      "_model_name": "HTMLModel",
      "_view_count": null,
      "_view_module": "@jupyter-widgets/controls",
      "_view_module_version": "1.5.0",
      "_view_name": "HTMLView",
      "description": "",
      "description_tooltip": null,
      "layout": "IPY_MODEL_2d1d907c0d04492097e35a9ceddea9a2",
      "placeholder": "​",
      "style": "IPY_MODEL_6de033864a1b4397a93147091aedda65",
      "value": " 327M/327M [00:15&lt;00:00, 25.4MB/s]"
     }
    },
    "d5faaf8d200a4bbf9c1e9677af8fe257": {
     "model_module": "@jupyter-widgets/base",
     "model_name": "LayoutModel",
     "model_module_version": "1.2.0",
     "state": {
      "_model_module": "@jupyter-widgets/base",
      "_model_module_version": "1.2.0",
      "_model_name": "LayoutModel",
      "_view_count": null,
      "_view_module": "@jupyter-widgets/base",
      "_view_module_version": "1.2.0",
      "_view_name": "LayoutView",
      "align_content": null,
      "align_items": null,
      "align_self": null,
      "border": null,
      "bottom": null,
      "display": null,
      "flex": null,
      "flex_flow": null,
      "grid_area": null,
      "grid_auto_columns": null,
      "grid_auto_flow": null,
      "grid_auto_rows": null,
      "grid_column": null,
      "grid_gap": null,
      "grid_row": null,
      "grid_template_areas": null,
      "grid_template_columns": null,
      "grid_template_rows": null,
      "height": null,
      "justify_content": null,
      "justify_items": null,
      "left": null,
      "margin": null,
      "max_height": null,
      "max_width": null,
      "min_height": null,
      "min_width": null,
      "object_fit": null,
      "object_position": null,
      "order": null,
      "overflow": null,
      "overflow_x": null,
      "overflow_y": null,
      "padding": null,
      "right": null,
      "top": null,
      "visibility": null,
      "width": null
     }
    },
    "aeb7614c4d7e41eeab603a70fc80ed6a": {
     "model_module": "@jupyter-widgets/base",
     "model_name": "LayoutModel",
     "model_module_version": "1.2.0",
     "state": {
      "_model_module": "@jupyter-widgets/base",
      "_model_module_version": "1.2.0",
      "_model_name": "LayoutModel",
      "_view_count": null,
      "_view_module": "@jupyter-widgets/base",
      "_view_module_version": "1.2.0",
      "_view_name": "LayoutView",
      "align_content": null,
      "align_items": null,
      "align_self": null,
      "border": null,
      "bottom": null,
      "display": null,
      "flex": null,
      "flex_flow": null,
      "grid_area": null,
      "grid_auto_columns": null,
      "grid_auto_flow": null,
      "grid_auto_rows": null,
      "grid_column": null,
      "grid_gap": null,
      "grid_row": null,
      "grid_template_areas": null,
      "grid_template_columns": null,
      "grid_template_rows": null,
      "height": null,
      "justify_content": null,
      "justify_items": null,
      "left": null,
      "margin": null,
      "max_height": null,
      "max_width": null,
      "min_height": null,
      "min_width": null,
      "object_fit": null,
      "object_position": null,
      "order": null,
      "overflow": null,
      "overflow_x": null,
      "overflow_y": null,
      "padding": null,
      "right": null,
      "top": null,
      "visibility": null,
      "width": null
     }
    },
    "41986d51df5b41d79187acaebafe3008": {
     "model_module": "@jupyter-widgets/controls",
     "model_name": "DescriptionStyleModel",
     "model_module_version": "1.5.0",
     "state": {
      "_model_module": "@jupyter-widgets/controls",
      "_model_module_version": "1.5.0",
      "_model_name": "DescriptionStyleModel",
      "_view_count": null,
      "_view_module": "@jupyter-widgets/base",
      "_view_module_version": "1.2.0",
      "_view_name": "StyleView",
      "description_width": ""
     }
    },
    "e2ad8a86c24c419581c204fd2ae2ba18": {
     "model_module": "@jupyter-widgets/base",
     "model_name": "LayoutModel",
     "model_module_version": "1.2.0",
     "state": {
      "_model_module": "@jupyter-widgets/base",
      "_model_module_version": "1.2.0",
      "_model_name": "LayoutModel",
      "_view_count": null,
      "_view_module": "@jupyter-widgets/base",
      "_view_module_version": "1.2.0",
      "_view_name": "LayoutView",
      "align_content": null,
      "align_items": null,
      "align_self": null,
      "border": null,
      "bottom": null,
      "display": null,
      "flex": null,
      "flex_flow": null,
      "grid_area": null,
      "grid_auto_columns": null,
      "grid_auto_flow": null,
      "grid_auto_rows": null,
      "grid_column": null,
      "grid_gap": null,
      "grid_row": null,
      "grid_template_areas": null,
      "grid_template_columns": null,
      "grid_template_rows": null,
      "height": null,
      "justify_content": null,
      "justify_items": null,
      "left": null,
      "margin": null,
      "max_height": null,
      "max_width": null,
      "min_height": null,
      "min_width": null,
      "object_fit": null,
      "object_position": null,
      "order": null,
      "overflow": null,
      "overflow_x": null,
      "overflow_y": null,
      "padding": null,
      "right": null,
      "top": null,
      "visibility": null,
      "width": null
     }
    },
    "811c526bd6154969b7028307dcafd550": {
     "model_module": "@jupyter-widgets/controls",
     "model_name": "ProgressStyleModel",
     "model_module_version": "1.5.0",
     "state": {
      "_model_module": "@jupyter-widgets/controls",
      "_model_module_version": "1.5.0",
      "_model_name": "ProgressStyleModel",
      "_view_count": null,
      "_view_module": "@jupyter-widgets/base",
      "_view_module_version": "1.2.0",
      "_view_name": "StyleView",
      "bar_color": null,
      "description_width": ""
     }
    },
    "2d1d907c0d04492097e35a9ceddea9a2": {
     "model_module": "@jupyter-widgets/base",
     "model_name": "LayoutModel",
     "model_module_version": "1.2.0",
     "state": {
      "_model_module": "@jupyter-widgets/base",
      "_model_module_version": "1.2.0",
      "_model_name": "LayoutModel",
      "_view_count": null,
      "_view_module": "@jupyter-widgets/base",
      "_view_module_version": "1.2.0",
      "_view_name": "LayoutView",
      "align_content": null,
      "align_items": null,
      "align_self": null,
      "border": null,
      "bottom": null,
      "display": null,
      "flex": null,
      "flex_flow": null,
      "grid_area": null,
      "grid_auto_columns": null,
      "grid_auto_flow": null,
      "grid_auto_rows": null,
      "grid_column": null,
      "grid_gap": null,
      "grid_row": null,
      "grid_template_areas": null,
      "grid_template_columns": null,
      "grid_template_rows": null,
      "height": null,
      "justify_content": null,
      "justify_items": null,
      "left": null,
      "margin": null,
      "max_height": null,
      "max_width": null,
      "min_height": null,
      "min_width": null,
      "object_fit": null,
      "object_position": null,
      "order": null,
      "overflow": null,
      "overflow_x": null,
      "overflow_y": null,
      "padding": null,
      "right": null,
      "top": null,
      "visibility": null,
      "width": null
     }
    },
    "6de033864a1b4397a93147091aedda65": {
     "model_module": "@jupyter-widgets/controls",
     "model_name": "DescriptionStyleModel",
     "model_module_version": "1.5.0",
     "state": {
      "_model_module": "@jupyter-widgets/controls",
      "_model_module_version": "1.5.0",
      "_model_name": "DescriptionStyleModel",
      "_view_count": null,
      "_view_module": "@jupyter-widgets/base",
      "_view_module_version": "1.2.0",
      "_view_name": "StyleView",
      "description_width": ""
     }
    }
   }
  }
 },
 "cells": [
  {
   "cell_type": "markdown",
   "source": [
    "# Prepare Google Colab Environment"
   ],
   "metadata": {
    "id": "JmPYsg-B49tM"
   }
  },
  {
   "cell_type": "code",
   "execution_count": 1,
   "metadata": {
    "colab": {
     "base_uri": "https://localhost:8080/"
    },
    "id": "GbkVr03HbnG4",
    "outputId": "17fb7b43-ba13-4a58-d1b3-b2c538648651"
   },
   "source": [
    "!git clone https://github.com/mhamilton723/STEGO.git"
   ],
   "outputs": []
  },
  {
   "cell_type": "code",
   "source": [
    "!pip install wget\n",
    "!pip install torchmetrics\n",
    "!pip install hydra-core\n",
    "!pip install git+https://github.com/lucasb-eyer/pydensecrf.git\n",
    "!pip install omegaconf\n",
    "!pip install pytorch-lightning"
   ],
   "metadata": {
    "colab": {
     "base_uri": "https://localhost:8080/",
     "height": 1000
    },
    "id": "Q4z1D5fOda3F",
    "outputId": "d3f974df-63a6-4717-ed6a-4d37a1abac05"
   },
   "execution_count": 2,
   "outputs": []
  },
  {
   "cell_type": "markdown",
   "source": [
    "# Download Pretrained Model\n",
    "\n"
   ],
   "metadata": {
    "id": "N-CjEZdF5DSH"
   }
  },
  {
   "cell_type": "code",
   "source": [
    "import os\n",
    "from os.path import join\n",
    "os.chdir(\"STEGO/src\")\n",
    "saved_models_dir = join(\"..\", \"saved_models\")\n",
    "os.makedirs(saved_models_dir, exist_ok=True)"
   ],
   "metadata": {
    "id": "hJ_XE2xHcImN"
   },
   "execution_count": 3,
   "outputs": []
  },
  {
   "cell_type": "code",
   "source": [
    "import wget\n",
    "saved_model_url_root = \"https://marhamilresearch4.blob.core.windows.net/stego-public/saved_models/\"\n",
    "saved_model_name = \"cocostuff27_vit_base_5.ckpt\"\n",
    "if not os.path.exists(join(saved_models_dir, saved_model_name)):\n",
    "  wget.download(saved_model_url_root + saved_model_name, join(saved_models_dir, saved_model_name))"
   ],
   "metadata": {
    "id": "knywSO7IcNc2"
   },
   "execution_count": 4,
   "outputs": []
  },
  {
   "cell_type": "markdown",
   "source": [
    "# Load pretrained STEGO"
   ],
   "metadata": {
    "id": "rtwTZEkA7twI"
   }
  },
  {
   "cell_type": "code",
   "source": [
    "from train_segmentation import LitUnsupervisedSegmenter\n",
    "\n",
    "model = LitUnsupervisedSegmenter.load_from_checkpoint(join(saved_models_dir, saved_model_name)).cuda()"
   ],
   "metadata": {
    "id": "RyBXeiGjdN8I",
    "colab": {
     "base_uri": "https://localhost:8080/",
     "height": 104,
     "referenced_widgets": [
      "5fa05203c234442a8c863a51f83bac9d",
      "7cf007c8f7a94bc292f8243391cea7ca",
      "5fa6b3215e01491d9534feadee79f706",
      "41d2dacf744d4ecaa1f51174a6703334",
      "d5faaf8d200a4bbf9c1e9677af8fe257",
      "aeb7614c4d7e41eeab603a70fc80ed6a",
      "41986d51df5b41d79187acaebafe3008",
      "e2ad8a86c24c419581c204fd2ae2ba18",
      "811c526bd6154969b7028307dcafd550",
      "2d1d907c0d04492097e35a9ceddea9a2",
      "6de033864a1b4397a93147091aedda65"
     ]
    },
    "outputId": "33ae5c14-857a-48d5-cd4b-803daf82c326"
   },
   "execution_count": 5,
   "outputs": []
  },
  {
   "cell_type": "markdown",
   "source": [
    "# Load Image"
   ],
   "metadata": {
    "id": "ATktWg_hBbuS"
   }
  },
  {
   "cell_type": "code",
   "source": [
    "from PIL import Image\n",
    "import requests\n",
    "from io import BytesIO\n",
    "from torchvision.transforms.functional import to_tensor\n",
    "from utils import get_transform\n",
    "\n",
    "img_url =\"https://marhamilresearch4.blob.core.windows.net/stego-public/sample_images/moto1.jpg\"\n",
    "response = requests.get(img_url)\n",
    "img = Image.open(BytesIO(response.content))\n",
    "transform = get_transform(448, False, \"center\")\n",
    "img = transform(img).unsqueeze(0).cuda()"
   ],
   "metadata": {
    "colab": {
     "base_uri": "https://localhost:8080/"
    },
    "id": "Ku-prYXZ8quf",
    "outputId": "f3c132f1-f380-4431-ed6d-7d158d3af41b"
   },
   "execution_count": 8,
   "outputs": []
  },
  {
   "cell_type": "markdown",
   "source": [
    "# Query model and pass result through CRF"
   ],
   "metadata": {
    "id": "5xXhpW6BBeWz"
   }
  },
  {
   "cell_type": "code",
   "source": [
    "import torch.nn.functional as F\n",
    "from crf import dense_crf\n",
    "import torch\n",
    "\n",
    "with torch.no_grad():\n",
    "  code1 = model(img)\n",
    "  code2 = model(img.flip(dims=[3]))\n",
    "  code  = (code1 + code2.flip(dims=[3])) / 2\n",
    "  code = F.interpolate(code, img.shape[-2:], mode='bilinear', align_corners=False)\n",
    "  linear_probs = torch.log_softmax(model.linear_probe(code), dim=1).cpu()\n",
    "  cluster_probs = model.cluster_probe(code, 2, log_probs=True).cpu()\n",
    "\n",
    "  single_img = img[0].cpu()\n",
    "  linear_pred = dense_crf(single_img, linear_probs[0]).argmax(0)\n",
    "  cluster_pred = dense_crf(single_img, cluster_probs[0]).argmax(0)"
   ],
   "metadata": {
    "id": "e0hvX1KX30SC"
   },
   "execution_count": 10,
   "outputs": []
  },
  {
   "cell_type": "markdown",
   "source": [
    "# Visualize Result\n",
    "\n",
    "Note that cluster predictions will not be matched with ground truth classes in this example. For hungarian matching please use: `eval_segmentation.py`"
   ],
   "metadata": {
    "id": "BxPO9i4rBjpH"
   }
  },
  {
   "cell_type": "code",
   "source": [
    "import matplotlib.pyplot as plt\n",
    "from utils import unnorm, remove_axes\n",
    "fig, ax = plt.subplots(1,3, figsize=(5*3,5))\n",
    "ax[0].imshow(unnorm(img)[0].permute(1,2,0).cpu())\n",
    "ax[0].set_title(\"Image\")\n",
    "ax[1].imshow(model.label_cmap[cluster_pred])\n",
    "ax[1].set_title(\"Cluster Predictions\")\n",
    "ax[2].imshow(model.label_cmap[linear_pred])\n",
    "ax[2].set_title(\"Linear Probe Predictions\")\n",
    "remove_axes(ax)"
   ],
   "metadata": {
    "colab": {
     "base_uri": "https://localhost:8080/",
     "height": 314
    },
    "id": "3G7CIyYG-hXj",
    "outputId": "4731d8de-d772-4818-9d14-679de5af7060"
   },
   "execution_count": 12,
   "outputs": []
  },
  {
   "cell_type": "code",
   "source": [
    ""
   ],
   "metadata": {
    "id": "IZtla3AI-uTX"
   },
   "execution_count": null,
   "outputs": []
  }
 ]
}
